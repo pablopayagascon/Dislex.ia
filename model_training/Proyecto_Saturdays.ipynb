{
  "nbformat": 4,
  "nbformat_minor": 0,
  "metadata": {
    "colab": {
      "provenance": []
    },
    "kernelspec": {
      "name": "python3",
      "display_name": "Python 3"
    },
    "language_info": {
      "name": "python"
    }
  },
  "cells": [
    {
      "cell_type": "markdown",
      "source": [
        "### **DISLEX.AI**"
      ],
      "metadata": {
        "id": "DSndQJ-YUkrp"
      }
    },
    {
      "cell_type": "markdown",
      "source": [
        "### **GENERACION DE LA INFORMACION**"
      ],
      "metadata": {
        "id": "CTmi9yHSo1Uc"
      }
    },
    {
      "cell_type": "markdown",
      "source": [
        "Haz un clone del repositorio, si ya lo tenias haz un Pull para descargar las actualizaciones del repo:"
      ],
      "metadata": {
        "id": "CWkX9E2eDzUz"
      }
    },
    {
      "cell_type": "code",
      "source": [
        "from getpass import getpass\n",
        "import os\n",
        "\n",
        "# Solicitar el token de GitHub\n",
        "token = \"****************\""
      ],
      "metadata": {
        "id": "eMHTJgyjEPk6"
      },
      "execution_count": null,
      "outputs": []
    },
    {
      "cell_type": "code",
      "source": [
        "#Hacer Pull del repositorio\n",
        "!git pull https://{token}@github.com/pablopayagascon/Dislex.ia.git\n"
      ],
      "metadata": {
        "colab": {
          "base_uri": "https://localhost:8080/"
        },
        "id": "e7tGEGnUD3He",
        "outputId": "c8215513-fcbe-42d4-c2a7-a2bcc03d8126"
      },
      "execution_count": null,
      "outputs": [
        {
          "output_type": "stream",
          "name": "stdout",
          "text": [
            "fatal: not a git repository (or any of the parent directories): .git\n"
          ]
        }
      ]
    },
    {
      "cell_type": "code",
      "source": [
        "# Clonar el repositorio privado usando el token\n",
        "!git clone https://{token}@github.com/pablopayagascon/Dislex.ia.git\n",
        "\n",
        "# Cambiar al directorio del repositorio\n",
        "os.chdir('/content/Dislex.ia')\n",
        "\n"
      ],
      "metadata": {
        "id": "Vh0515ZyyiGc",
        "colab": {
          "base_uri": "https://localhost:8080/"
        },
        "outputId": "b608aa31-cfb3-4712-b0b7-b9ccc59d83ba"
      },
      "execution_count": null,
      "outputs": [
        {
          "output_type": "stream",
          "name": "stdout",
          "text": [
            "fatal: destination path 'Dislex.ia' already exists and is not an empty directory.\n"
          ]
        }
      ]
    },
    {
      "cell_type": "code",
      "execution_count": null,
      "metadata": {
        "id": "bQyheFh7-C8Y",
        "colab": {
          "base_uri": "https://localhost:8080/"
        },
        "outputId": "9b2e82d5-32f7-42bf-f3ca-ed68aab74308",
        "collapsed": true
      },
      "outputs": [
        {
          "output_type": "stream",
          "name": "stdout",
          "text": [
            "Requirement already satisfied: abydos==0.5.0 in /usr/local/lib/python3.10/dist-packages (from -r requirements.txt (line 1)) (0.5.0)\n",
            "Requirement already satisfied: azure-cognitiveservices-vision-computervision==0.9.0 in /usr/local/lib/python3.10/dist-packages (from -r requirements.txt (line 2)) (0.9.0)\n",
            "Requirement already satisfied: language-tool-python==2.7.1 in /usr/local/lib/python3.10/dist-packages (from -r requirements.txt (line 3)) (2.7.1)\n",
            "Requirement already satisfied: Pillow==9.2.0 in /usr/local/lib/python3.10/dist-packages (from -r requirements.txt (line 4)) (9.2.0)\n",
            "Requirement already satisfied: textblob==0.17.1 in /usr/local/lib/python3.10/dist-packages (from -r requirements.txt (line 5)) (0.17.1)\n",
            "Requirement already satisfied: SpeechRecognition==3.8.1 in /usr/local/lib/python3.10/dist-packages (from -r requirements.txt (line 6)) (3.8.1)\n",
            "Requirement already satisfied: pyttsx3 in /usr/local/lib/python3.10/dist-packages (from -r requirements.txt (line 7)) (2.90)\n",
            "Requirement already satisfied: eng_to_ipa in /usr/local/lib/python3.10/dist-packages (from -r requirements.txt (line 8)) (0.0.2)\n",
            "Requirement already satisfied: requests in /usr/local/lib/python3.10/dist-packages (from -r requirements.txt (line 9)) (2.31.0)\n",
            "Requirement already satisfied: pandas in /usr/local/lib/python3.10/dist-packages (from -r requirements.txt (line 10)) (2.0.3)\n",
            "Requirement already satisfied: numpy in /usr/local/lib/python3.10/dist-packages (from abydos==0.5.0->-r requirements.txt (line 1)) (1.25.2)\n",
            "Requirement already satisfied: deprecation in /usr/local/lib/python3.10/dist-packages (from abydos==0.5.0->-r requirements.txt (line 1)) (2.1.0)\n",
            "Requirement already satisfied: msrest>=0.5.0 in /usr/local/lib/python3.10/dist-packages (from azure-cognitiveservices-vision-computervision==0.9.0->-r requirements.txt (line 2)) (0.7.1)\n",
            "Requirement already satisfied: azure-common~=1.1 in /usr/local/lib/python3.10/dist-packages (from azure-cognitiveservices-vision-computervision==0.9.0->-r requirements.txt (line 2)) (1.1.28)\n",
            "Requirement already satisfied: tqdm in /usr/local/lib/python3.10/dist-packages (from language-tool-python==2.7.1->-r requirements.txt (line 3)) (4.66.4)\n",
            "Requirement already satisfied: nltk>=3.1 in /usr/local/lib/python3.10/dist-packages (from textblob==0.17.1->-r requirements.txt (line 5)) (3.8.1)\n",
            "Requirement already satisfied: charset-normalizer<4,>=2 in /usr/local/lib/python3.10/dist-packages (from requests->-r requirements.txt (line 9)) (3.3.2)\n",
            "Requirement already satisfied: idna<4,>=2.5 in /usr/local/lib/python3.10/dist-packages (from requests->-r requirements.txt (line 9)) (3.7)\n",
            "Requirement already satisfied: urllib3<3,>=1.21.1 in /usr/local/lib/python3.10/dist-packages (from requests->-r requirements.txt (line 9)) (2.0.7)\n",
            "Requirement already satisfied: certifi>=2017.4.17 in /usr/local/lib/python3.10/dist-packages (from requests->-r requirements.txt (line 9)) (2024.6.2)\n",
            "Requirement already satisfied: python-dateutil>=2.8.2 in /usr/local/lib/python3.10/dist-packages (from pandas->-r requirements.txt (line 10)) (2.8.2)\n",
            "Requirement already satisfied: pytz>=2020.1 in /usr/local/lib/python3.10/dist-packages (from pandas->-r requirements.txt (line 10)) (2023.4)\n",
            "Requirement already satisfied: tzdata>=2022.1 in /usr/local/lib/python3.10/dist-packages (from pandas->-r requirements.txt (line 10)) (2024.1)\n",
            "Requirement already satisfied: azure-core>=1.24.0 in /usr/local/lib/python3.10/dist-packages (from msrest>=0.5.0->azure-cognitiveservices-vision-computervision==0.9.0->-r requirements.txt (line 2)) (1.30.2)\n",
            "Requirement already satisfied: isodate>=0.6.0 in /usr/local/lib/python3.10/dist-packages (from msrest>=0.5.0->azure-cognitiveservices-vision-computervision==0.9.0->-r requirements.txt (line 2)) (0.6.1)\n",
            "Requirement already satisfied: requests-oauthlib>=0.5.0 in /usr/local/lib/python3.10/dist-packages (from msrest>=0.5.0->azure-cognitiveservices-vision-computervision==0.9.0->-r requirements.txt (line 2)) (1.3.1)\n",
            "Requirement already satisfied: click in /usr/local/lib/python3.10/dist-packages (from nltk>=3.1->textblob==0.17.1->-r requirements.txt (line 5)) (8.1.7)\n",
            "Requirement already satisfied: joblib in /usr/local/lib/python3.10/dist-packages (from nltk>=3.1->textblob==0.17.1->-r requirements.txt (line 5)) (1.4.2)\n",
            "Requirement already satisfied: regex>=2021.8.3 in /usr/local/lib/python3.10/dist-packages (from nltk>=3.1->textblob==0.17.1->-r requirements.txt (line 5)) (2024.5.15)\n",
            "Requirement already satisfied: six>=1.5 in /usr/local/lib/python3.10/dist-packages (from python-dateutil>=2.8.2->pandas->-r requirements.txt (line 10)) (1.16.0)\n",
            "Requirement already satisfied: packaging in /usr/local/lib/python3.10/dist-packages (from deprecation->abydos==0.5.0->-r requirements.txt (line 1)) (24.1)\n",
            "Requirement already satisfied: typing-extensions>=4.6.0 in /usr/local/lib/python3.10/dist-packages (from azure-core>=1.24.0->msrest>=0.5.0->azure-cognitiveservices-vision-computervision==0.9.0->-r requirements.txt (line 2)) (4.12.2)\n",
            "Requirement already satisfied: oauthlib>=3.0.0 in /usr/local/lib/python3.10/dist-packages (from requests-oauthlib>=0.5.0->msrest>=0.5.0->azure-cognitiveservices-vision-computervision==0.9.0->-r requirements.txt (line 2)) (3.2.2)\n"
          ]
        }
      ],
      "source": [
        "# # Instalar las dependencias\n",
        "!pip install -r requirements.txt"
      ]
    },
    {
      "cell_type": "code",
      "source": [
        "from PIL import Image\n",
        "import os\n",
        "from textblob import TextBlob\n",
        "import language_tool_python\n",
        "import requests\n",
        "import pandas as pd\n",
        "import random\n",
        "import speech_recognition as sr\n",
        "import pyttsx3\n",
        "import time\n",
        "import eng_to_ipa as ipa\n",
        "from azure.cognitiveservices.vision.computervision import ComputerVisionClient\n",
        "from azure.cognitiveservices.vision.computervision.models import OperationStatusCodes\n",
        "from msrest.authentication import CognitiveServicesCredentials\n",
        "import csv"
      ],
      "metadata": {
        "id": "kbbZhoIWHcYm"
      },
      "execution_count": null,
      "outputs": []
    },
    {
      "cell_type": "code",
      "source": [
        "def levenshtein(s1, s2):\n",
        "    if len(s1) < len(s2):\n",
        "        return levenshtein(s2, s1)\n",
        "\n",
        "    # len(s1) >= len(s2)\n",
        "    if len(s2) == 0:\n",
        "        return len(s1)\n",
        "\n",
        "    previous_row = range(len(s2) + 1)\n",
        "    for i, c1 in enumerate(s1):\n",
        "        current_row = [i + 1]\n",
        "        for j, c2 in enumerate(s2):\n",
        "            # j+1 instead of j since previous_row and current_row are one character longer\n",
        "            insertions = previous_row[j + 1] + 1\n",
        "            deletions = current_row[j] + 1       # than s2\n",
        "            substitutions = previous_row[j] + (c1 != c2)\n",
        "            current_row.append(min(insertions, deletions, substitutions))\n",
        "        previous_row = current_row\n",
        "\n",
        "    return previous_row[-1]"
      ],
      "metadata": {
        "id": "_i22skoPXlYV"
      },
      "execution_count": null,
      "outputs": []
    },
    {
      "cell_type": "code",
      "source": [
        "# image to text API authentication\n",
        "subscription_key_imagetotext = \"*****\"\n",
        "endpoint_imagetotext = \"https://dislexia.cognitiveservices.azure.com/\"\n",
        "computervision_client = ComputerVisionClient(\n",
        "    endpoint_imagetotext, CognitiveServicesCredentials(subscription_key_imagetotext))\n",
        "\n",
        "# '''-------------------------------------------------------------------------------------------------------------------------------------------------------------------------'''\n",
        "\n",
        "# text correction API authentication\n",
        "api_key_textcorrection = \"*****\"\n",
        "endpoint_textcorrection = \"https://api.bing.microsoft.com/v7.0/SpellCheck\"\n",
        "\n",
        "# '''-------------------------------------------------------------------------------------------------------------------------------------------------------------------------'''\n",
        "\n",
        "my_tool = language_tool_python.LanguageTool('en-US')\n"
      ],
      "metadata": {
        "id": "9AxUmTjNIBdJ",
        "colab": {
          "base_uri": "https://localhost:8080/"
        },
        "outputId": "517dbf2d-75d1-4fbe-d692-e8886a66cb2b"
      },
      "execution_count": null,
      "outputs": [
        {
          "output_type": "stream",
          "name": "stderr",
          "text": [
            "Downloading LanguageTool 5.7: 100%|██████████| 225M/225M [00:11<00:00, 19.7MB/s]\n",
            "INFO:language_tool_python.download_lt:Unzipping /tmp/tmp8a_d6pls.zip to /root/.cache/language_tool_python.\n",
            "INFO:language_tool_python.download_lt:Downloaded https://www.languagetool.org/download/LanguageTool-5.7.zip to /root/.cache/language_tool_python.\n"
          ]
        }
      ]
    },
    {
      "cell_type": "code",
      "source": [
        " # method for extracting the text\n",
        "\n",
        "def image_to_text(path):\n",
        "    read_image = open(path, \"rb\")\n",
        "    read_response = computervision_client.read_in_stream(read_image, raw=True)\n",
        "    read_operation_location = read_response.headers[\"Operation-Location\"]\n",
        "    operation_id = read_operation_location.split(\"/\")[-1]\n",
        "\n",
        "    while True:\n",
        "        read_result = computervision_client.get_read_result(operation_id)\n",
        "        if read_result.status.lower() not in ['notstarted', 'running']:\n",
        "            break\n",
        "        time.sleep(5)\n",
        "\n",
        "    text = []\n",
        "    if read_result.status == OperationStatusCodes.succeeded:\n",
        "        for text_result in read_result.analyze_result.read_results:\n",
        "            for line in text_result.lines:\n",
        "                text.append(line.text)\n",
        "\n",
        "    return \" \".join(text)"
      ],
      "metadata": {
        "id": "o4PD1T62K5hq"
      },
      "execution_count": null,
      "outputs": []
    },
    {
      "cell_type": "code",
      "source": [
        "# method for finding the spelling accuracy\n",
        "\n",
        "def spelling_accuracy(extracted_text):\n",
        "    spell_corrected = TextBlob(extracted_text).correct()\n",
        "    return ((len(extracted_text) - (levenshtein(extracted_text, spell_corrected)))/(len(extracted_text)+1))*100"
      ],
      "metadata": {
        "id": "k7PWSiRgLCw6"
      },
      "execution_count": null,
      "outputs": []
    },
    {
      "cell_type": "code",
      "source": [
        "# method for gramatical accuracy\n",
        "\n",
        "def gramatical_accuracy(extracted_text):\n",
        "    spell_corrected = TextBlob(extracted_text).correct()\n",
        "    correct_text = my_tool.correct(spell_corrected)\n",
        "    extracted_text_set = set(spell_corrected.split(\" \"))\n",
        "    correct_text_set = set(correct_text.split(\" \"))\n",
        "    n = max(len(extracted_text_set - correct_text_set),\n",
        "            len(correct_text_set - extracted_text_set))\n",
        "    return ((len(spell_corrected) - n)/(len(spell_corrected)+1))*100"
      ],
      "metadata": {
        "id": "bBNbgHzmLKJg"
      },
      "execution_count": null,
      "outputs": []
    },
    {
      "cell_type": "code",
      "source": [
        "# percentage of corrections\n",
        "\n",
        "def percentage_of_corrections(extracted_text):\n",
        "    data = {'text': extracted_text}\n",
        "    params = {\n",
        "        'mkt': 'en-us',\n",
        "        'mode': 'proof'\n",
        "    }\n",
        "    headers = {\n",
        "        'Content-Type': 'application/x-www-form-urlencoded',\n",
        "        'Ocp-Apim-Subscription-Key': api_key_textcorrection,\n",
        "    }\n",
        "    response = requests.post(endpoint_textcorrection,\n",
        "                             headers=headers, params=params, data=data)\n",
        "    json_response = response.json()\n",
        "\n",
        "    # Verificar si 'flaggedTokens' está en la respuesta\n",
        "    if 'flaggedTokens' in json_response:\n",
        "        return len(json_response['flaggedTokens']) / len(extracted_text.split(\" \")) * 100\n",
        "    else:\n",
        "        # Manejar el caso donde 'flaggedTokens' no está presente\n",
        "        print(\"Error: 'flaggedTokens' no está en la respuesta\")\n",
        "        return None\n",
        "\n"
      ],
      "metadata": {
        "id": "ss0O_WDhLYTz"
      },
      "execution_count": null,
      "outputs": []
    },
    {
      "cell_type": "code",
      "source": [
        "def get_feature_array(path: str):\n",
        "    feature_array = []\n",
        "    extracted_text = image_to_text(path)\n",
        "    feature_array.append(spelling_accuracy(extracted_text))\n",
        "    feature_array.append(gramatical_accuracy(extracted_text))\n",
        "    feature_array.append(percentage_of_corrections(extracted_text))\n",
        "    return feature_array"
      ],
      "metadata": {
        "id": "8Y8wfS0ALiMI"
      },
      "execution_count": null,
      "outputs": []
    },
    {
      "cell_type": "code",
      "source": [
        "def generate_csv(folder: str, label: int, csv_name: str):\n",
        "    arr = []\n",
        "    for image in os.listdir(folder):\n",
        "        path = os.path.join(folder, image)\n",
        "        feature_array = get_feature_array(path)\n",
        "        feature_array.append(label)\n",
        "        # print(feature_array)\n",
        "        arr.append(feature_array)\n",
        "        print(feature_array)\n",
        "    print(arr)\n",
        "    pd.DataFrame(arr, columns=[\"spelling_accuracy\", \"gramatical_accuracy\", \" percentage_of_corrections\", \"presence_of_dyslexia\"]).to_csv(\"test1.csv\")"
      ],
      "metadata": {
        "id": "lDSSXKFPLmd7"
      },
      "execution_count": null,
      "outputs": []
    },
    {
      "cell_type": "markdown",
      "source": [
        "### **PREDICCION DE DISLEXIA USANDO REGRESION LOGISTICA**"
      ],
      "metadata": {
        "id": "q6rT9ttYGecE"
      }
    },
    {
      "cell_type": "code",
      "source": [
        "import pandas as pd\n",
        "import numpy as np\n",
        "from sklearn import linear_model\n",
        "from sklearn import model_selection\n",
        "from sklearn.metrics import classification_report\n",
        "from sklearn.metrics import confusion_matrix\n",
        "from sklearn.metrics import accuracy_score\n",
        "import matplotlib.pyplot as plt\n",
        "import seaborn as sb\n",
        "\n",
        "train_data = pd.read_csv(\"/content/Dislex.ia/model_training/train.csv\")\n",
        "# train_data.head()\n",
        "\n",
        "test_data = pd.read_csv(\"/content/Dislex.ia/model_training/test.csv\")\n",
        "# test_data.head()\n"
      ],
      "metadata": {
        "id": "Vm_XIzWYCQ9y"
      },
      "execution_count": null,
      "outputs": []
    },
    {
      "cell_type": "code",
      "source": [
        "x_train = np.array(train_data.drop(['presence_of_dyslexia'], axis=\"columns\"))\n",
        "y_train = np.array(train_data['presence_of_dyslexia'])\n",
        "\n",
        "x_test= np.array(test_data.drop(['presence_of_dyslexia'], axis=\"columns\"))\n",
        "y_test = np.array(test_data['presence_of_dyslexia'])"
      ],
      "metadata": {
        "id": "ofMQZ9pFC9hf"
      },
      "execution_count": null,
      "outputs": []
    },
    {
      "cell_type": "code",
      "source": [
        "model_logistic = linear_model.LogisticRegression()\n",
        "model_logistic.fit(x_train,y_train)"
      ],
      "metadata": {
        "colab": {
          "base_uri": "https://localhost:8080/",
          "height": 74
        },
        "id": "IylOr3PvEBIi",
        "outputId": "810c5968-293a-4317-a3f0-4d77db49fc2e"
      },
      "execution_count": null,
      "outputs": [
        {
          "output_type": "execute_result",
          "data": {
            "text/plain": [
              "LogisticRegression()"
            ],
            "text/html": [
              "<style>#sk-container-id-1 {color: black;background-color: white;}#sk-container-id-1 pre{padding: 0;}#sk-container-id-1 div.sk-toggleable {background-color: white;}#sk-container-id-1 label.sk-toggleable__label {cursor: pointer;display: block;width: 100%;margin-bottom: 0;padding: 0.3em;box-sizing: border-box;text-align: center;}#sk-container-id-1 label.sk-toggleable__label-arrow:before {content: \"▸\";float: left;margin-right: 0.25em;color: #696969;}#sk-container-id-1 label.sk-toggleable__label-arrow:hover:before {color: black;}#sk-container-id-1 div.sk-estimator:hover label.sk-toggleable__label-arrow:before {color: black;}#sk-container-id-1 div.sk-toggleable__content {max-height: 0;max-width: 0;overflow: hidden;text-align: left;background-color: #f0f8ff;}#sk-container-id-1 div.sk-toggleable__content pre {margin: 0.2em;color: black;border-radius: 0.25em;background-color: #f0f8ff;}#sk-container-id-1 input.sk-toggleable__control:checked~div.sk-toggleable__content {max-height: 200px;max-width: 100%;overflow: auto;}#sk-container-id-1 input.sk-toggleable__control:checked~label.sk-toggleable__label-arrow:before {content: \"▾\";}#sk-container-id-1 div.sk-estimator input.sk-toggleable__control:checked~label.sk-toggleable__label {background-color: #d4ebff;}#sk-container-id-1 div.sk-label input.sk-toggleable__control:checked~label.sk-toggleable__label {background-color: #d4ebff;}#sk-container-id-1 input.sk-hidden--visually {border: 0;clip: rect(1px 1px 1px 1px);clip: rect(1px, 1px, 1px, 1px);height: 1px;margin: -1px;overflow: hidden;padding: 0;position: absolute;width: 1px;}#sk-container-id-1 div.sk-estimator {font-family: monospace;background-color: #f0f8ff;border: 1px dotted black;border-radius: 0.25em;box-sizing: border-box;margin-bottom: 0.5em;}#sk-container-id-1 div.sk-estimator:hover {background-color: #d4ebff;}#sk-container-id-1 div.sk-parallel-item::after {content: \"\";width: 100%;border-bottom: 1px solid gray;flex-grow: 1;}#sk-container-id-1 div.sk-label:hover label.sk-toggleable__label {background-color: #d4ebff;}#sk-container-id-1 div.sk-serial::before {content: \"\";position: absolute;border-left: 1px solid gray;box-sizing: border-box;top: 0;bottom: 0;left: 50%;z-index: 0;}#sk-container-id-1 div.sk-serial {display: flex;flex-direction: column;align-items: center;background-color: white;padding-right: 0.2em;padding-left: 0.2em;position: relative;}#sk-container-id-1 div.sk-item {position: relative;z-index: 1;}#sk-container-id-1 div.sk-parallel {display: flex;align-items: stretch;justify-content: center;background-color: white;position: relative;}#sk-container-id-1 div.sk-item::before, #sk-container-id-1 div.sk-parallel-item::before {content: \"\";position: absolute;border-left: 1px solid gray;box-sizing: border-box;top: 0;bottom: 0;left: 50%;z-index: -1;}#sk-container-id-1 div.sk-parallel-item {display: flex;flex-direction: column;z-index: 1;position: relative;background-color: white;}#sk-container-id-1 div.sk-parallel-item:first-child::after {align-self: flex-end;width: 50%;}#sk-container-id-1 div.sk-parallel-item:last-child::after {align-self: flex-start;width: 50%;}#sk-container-id-1 div.sk-parallel-item:only-child::after {width: 0;}#sk-container-id-1 div.sk-dashed-wrapped {border: 1px dashed gray;margin: 0 0.4em 0.5em 0.4em;box-sizing: border-box;padding-bottom: 0.4em;background-color: white;}#sk-container-id-1 div.sk-label label {font-family: monospace;font-weight: bold;display: inline-block;line-height: 1.2em;}#sk-container-id-1 div.sk-label-container {text-align: center;}#sk-container-id-1 div.sk-container {/* jupyter's `normalize.less` sets `[hidden] { display: none; }` but bootstrap.min.css set `[hidden] { display: none !important; }` so we also need the `!important` here to be able to override the default hidden behavior on the sphinx rendered scikit-learn.org. See: https://github.com/scikit-learn/scikit-learn/issues/21755 */display: inline-block !important;position: relative;}#sk-container-id-1 div.sk-text-repr-fallback {display: none;}</style><div id=\"sk-container-id-1\" class=\"sk-top-container\"><div class=\"sk-text-repr-fallback\"><pre>LogisticRegression()</pre><b>In a Jupyter environment, please rerun this cell to show the HTML representation or trust the notebook. <br />On GitHub, the HTML representation is unable to render, please try loading this page with nbviewer.org.</b></div><div class=\"sk-container\" hidden><div class=\"sk-item\"><div class=\"sk-estimator sk-toggleable\"><input class=\"sk-toggleable__control sk-hidden--visually\" id=\"sk-estimator-id-1\" type=\"checkbox\" checked><label for=\"sk-estimator-id-1\" class=\"sk-toggleable__label sk-toggleable__label-arrow\">LogisticRegression</label><div class=\"sk-toggleable__content\"><pre>LogisticRegression()</pre></div></div></div></div></div>"
            ]
          },
          "metadata": {},
          "execution_count": 15
        }
      ]
    },
    {
      "cell_type": "code",
      "source": [
        "# Heatmap to check relationships between variables\n",
        "sb.heatmap(confusion_matrix(model_logistic.predict(x_test), y_test), annot=True)"
      ],
      "metadata": {
        "colab": {
          "base_uri": "https://localhost:8080/",
          "height": 447
        },
        "id": "QNkVP1LOEHOb",
        "outputId": "ced77df1-c473-4ee9-8779-f11d250d9f8a"
      },
      "execution_count": null,
      "outputs": [
        {
          "output_type": "execute_result",
          "data": {
            "text/plain": [
              "<Axes: >"
            ]
          },
          "metadata": {},
          "execution_count": 16
        },
        {
          "output_type": "display_data",
          "data": {
            "text/plain": [
              "<Figure size 640x480 with 2 Axes>"
            ],
            "image/png": "[encoded data removed]"
          },
          "metadata": {}
        }
      ]
    },
    {
      "cell_type": "markdown",
      "source": [
        "### **MAIN**"
      ],
      "metadata": {
        "id": "hlN2pUdHOguP"
      }
    },
    {
      "cell_type": "code",
      "source": [
        "if __name__ == \"__main__\":\n",
        "\n",
        "    img = \"/content/10.jpg\"\n",
        "    result = list()\n",
        "\n",
        "    # create dataframe\n",
        "    extracted_text = image_to_text(img)\n",
        "    spl_accuracy = spelling_accuracy(extracted_text)\n",
        "    result.append(spl_accuracy)\n",
        "    grm_accuracy = gramatical_accuracy(extracted_text)\n",
        "    result.append(grm_accuracy)\n",
        "    p_correction = percentage_of_corrections(extracted_text)\n",
        "    result.append(p_correction)\n",
        "\n",
        "    # Imprime los resultados\n",
        "    print(f\"Extracted text: {extracted_text}\")\n",
        "    print(f\"Spelling accuracy: {spl_accuracy}\")\n",
        "    print(f\"Gramatical_accuracy: {grm_accuracy}\")\n",
        "    print(f\"Percentage of corrections: {p_correction}\")\n",
        "\n",
        "    print(result)"
      ],
      "metadata": {
        "colab": {
          "base_uri": "https://localhost:8080/"
        },
        "id": "EAkT5VX1NgRD",
        "outputId": "261a30e8-a5b8-478c-ff4e-3a4fe34b57df"
      },
      "execution_count": null,
      "outputs": [
        {
          "output_type": "stream",
          "name": "stdout",
          "text": [
            "Extracted text: I have leand that thair are five steps in righting a story. hay are preerighting righting reirsing, editing, and publishing. Preerighting is wen you right down ideyus for the story. Righting is wing you have disided on a objekt and you right it Revising is makeing the story smothe. Editing is checking speling, punshuation and capitalusion. Pudishing is wen you send it to a Publisher to put it out in the market. I also leand some cereksoins marke such as imi; I want to be a good sientes you need to shair it with other sientests.\n",
            "Spelling accuracy: 95.50561797752809\n",
            "Gramatical_accuracy: 99.62192816635161\n",
            "Percentage of corrections: 18.75\n",
            "[95.50561797752809, 99.62192816635161, 18.75]\n"
          ]
        }
      ]
    },
    {
      "cell_type": "code",
      "source": [
        "    # Guardar los resultados en un archivo CSV\n",
        "    with open('resultados.csv', mode='w', newline='', encoding='utf-8') as file:\n",
        "        writer = csv.writer(file, delimiter=',')\n",
        "        #writer.writerow(['Spelling Accuracy', 'Grammatical Accuracy', 'Percentage of Corrections'])\n",
        "        writer.writerow(result)"
      ],
      "metadata": {
        "id": "QSSauUynq13T"
      },
      "execution_count": null,
      "outputs": []
    },
    {
      "cell_type": "code",
      "source": [
        "    # Convierte la lista de resultados a un DataFrame de pandas con columnas correspondientes\n",
        "    result_df = pd.DataFrame([result], columns=['spelling_accuracy', 'gramatical_accuracy', 'percentage_of_corrections'])\n",
        "\n",
        "    # Mostrar el DataFrame\n",
        "    print(result_df)"
      ],
      "metadata": {
        "id": "e-eQSqd0ogmx",
        "colab": {
          "base_uri": "https://localhost:8080/"
        },
        "outputId": "aae06ffb-146b-45b7-98e3-b3205e0d241e"
      },
      "execution_count": null,
      "outputs": [
        {
          "output_type": "stream",
          "name": "stdout",
          "text": [
            "   spelling_accuracy  gramatical_accuracy  percentage_of_corrections\n",
            "0          95.505618            99.621928                      18.75\n"
          ]
        }
      ]
    },
    {
      "cell_type": "code",
      "source": [
        "    data = pd.read_csv(\"/content/Dislex.ia/data/test-mix-dislexia.csv\")\n",
        "    data = data.drop(columns =  [\"Unnamed: 0\", \"presence_of_dyslexia\"])\n",
        "    data.head(6)\n",
        "    # print(data)\n",
        "    # Predice usando el modelo entrenado\n",
        "    prediction = model_logistic.predict(data)\n",
        "\n",
        "    # Agregar las predicciones al DataFrame\n",
        "    data[\"predictions\"] = prediction\n",
        "    data.to_csv(\"/content/Dislex.ia/data/predictions.csv\", index=False)\n",
        "    data.head()\n",
        "\n",
        "    prediction_test = model_logistic.predict(result_df)\n",
        "\n",
        "    # Imprime las predicciones\n",
        "    # print(f\"Prediction: {prediction}\")\n",
        "    print(f\"Prediction probabilities: {prediction_test[0]}\")"
      ],
      "metadata": {
        "id": "zssunNtSjBoN",
        "colab": {
          "base_uri": "https://localhost:8080/"
        },
        "outputId": "a50d431b-dc25-4e9b-ede7-8ea474074022"
      },
      "execution_count": null,
      "outputs": [
        {
          "output_type": "stream",
          "name": "stdout",
          "text": [
            "Prediction probabilities: 1\n"
          ]
        },
        {
          "output_type": "stream",
          "name": "stderr",
          "text": [
            "/usr/local/lib/python3.10/dist-packages/sklearn/base.py:432: UserWarning: X has feature names, but LogisticRegression was fitted without feature names\n",
            "  warnings.warn(\n",
            "/usr/local/lib/python3.10/dist-packages/sklearn/base.py:432: UserWarning: X has feature names, but LogisticRegression was fitted without feature names\n",
            "  warnings.warn(\n"
          ]
        }
      ]
    },
    {
      "cell_type": "markdown",
      "source": [
        "### **ALGUNAS NOTAS**\n",
        "1. **Spelling accuracy**: diferencia entre dos frases con la distancia lavenstein (numero minimo de cambios necesarios)\n",
        "\t- Probar ir separando palabra por pablara\n",
        "\t- Probar si es mejor imponer la frase esperada o no\n",
        "\n",
        "\n",
        "```\n",
        "def spelling_accuracy(extracted_text):\n",
        "    spell_corrected = TextBlob(extracted_text).correct()\n",
        "    return ((len(extracted_text) - (levenshtein(extracted_text, spell_corrected)))/(len(extracted_text)+1))*100\n",
        "```\n",
        "\n",
        "\n",
        "\n",
        "2. **Gramatical accuracy**: se extraen la plabras con split, se corrige con TextBlobCorrect. Corrige el texto gramaticalmente con MyTool (LangugeTool). Compar la lista de palabras con la primera.\n",
        "\n",
        "\n",
        "```\n",
        "def gramatical_accuracy(extracted_text):\n",
        "    spell_corrected = TextBlob(extracted_text).correct()\n",
        "    correct_text = my_tool.correct(spell_corrected)\n",
        "    extracted_text_set = set(spell_corrected.split(\" \"))\n",
        "    correct_text_set = set(correct_text.split(\" \"))\n",
        "    n = max(len(extracted_text_set - correct_text_set),\n",
        "            len(correct_text_set - extracted_text_set))\n",
        "    return ((len(spell_corrected) - n)/(len(spell_corrected)+1))*100\n",
        "```\n",
        "\n",
        "\n",
        "3. **Porcentaje de correcciones**: con Azure"
      ],
      "metadata": {
        "id": "EiPqpnrpMkhG"
      }
    },
    {
      "cell_type": "markdown",
      "source": [
        "# Refencias\n",
        "[1] P. J. Grother, “NIST Special Database 19,” NIST, 2016. [Online]. Available: https://www.nist.gov/srd/nist-special-database-19. [Accessed: 01-Jun-2024]."
      ],
      "metadata": {
        "id": "7ZuMqx2PHN15"
      }
    }
  ]
}